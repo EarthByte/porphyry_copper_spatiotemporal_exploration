{
 "cells": [
  {
   "cell_type": "code",
   "execution_count": 1,
   "metadata": {},
   "outputs": [
    {
     "name": "stdout",
     "output_type": "stream",
     "text": [
      "done!\n"
     ]
    }
   ],
   "source": [
    "#convert PorCuEX2008.csv to gpml\n",
    "import pandas as pd\n",
    "\n",
    "import pygplates\n",
    "from parameters import parameters\n",
    "import Utils\n",
    "\n",
    "NA_positives = pd.read_csv(\"input_data/NA_positives.csv\")\n",
    "#SA_data = pd.read_csv(\"input_data/SA_positives.csv\")\n",
    "\n",
    "lons=NA_positives['lon']\n",
    "lats=NA_positives['lat']\n",
    "ageMa=NA_positives['age']\n",
    "\n",
    "static_polygons = pygplates.FeatureCollection(Utils.get_parameter('static_polygons_file'))\n",
    "rotation_model = pygplates.RotationModel(Utils.get_files(Utils.get_parameter('rotation_files')))\n",
    "\n",
    "plate_ids = Utils.get_plate_id(lons.tolist(), \n",
    "                               lats.tolist(), \n",
    "                               static_polygons, \n",
    "                               rotation_model)\n",
    "\n",
    "\n",
    "NA_positives['plate_id'] = plate_ids\n",
    "\n",
    "\n",
    "\n",
    "# #display(data)\n",
    "\n",
    "# static_polygons = pygplates.FeatureCollection(parameters['static_polygons_file'])\n",
    "# rotation_model = pygplates.RotationModel(Utils.get_files(parameters['rotation_files']))\n",
    "\n",
    "# NA_plate_ids = Utils.get_plate_id(NA_data.LongitudeDecimal.tolist(), \n",
    "#                                data.LatitudeDecimal.tolist(), \n",
    "#                                static_polygons, \n",
    "#                                rotation_model)\n",
    "# #print(sorted(data.AgeMY))\n",
    "# data['PlateID'] = plate_ids\n",
    "#data.AgeMY.fillna(0,inplace=True)\n",
    "\n",
    "point_features = []\n",
    "for index,row in NA_positives.iterrows():\n",
    "    point = pygplates.PointOnSphere(float(row.lat),float(row.lon))\n",
    "    point_feature = pygplates.Feature()\n",
    "    point_feature.set_geometry(point)\n",
    "#    point_feature.set_name(row.NameDeposit)\n",
    "    point_feature.set_valid_time(float(row.age), pygplates.GeoTimeInstant.create_distant_future())\n",
    "    point_feature.set_reconstruction_plate_id(int(row.plate_id))\n",
    "    point_features.append(point_feature)\n",
    "    \n",
    "fc = pygplates.FeatureCollection(point_features)\n",
    "fc.write('input_data/NA_positives.gpmlz')\n",
    "print('done!')"
   ]
  },
  {
   "cell_type": "code",
   "execution_count": 1,
   "metadata": {},
   "outputs": [
    {
     "name": "stdout",
     "output_type": "stream",
     "text": [
      "Age grid url has not been set. Not downloading age grid file.\n",
      "reconstructing at 0 Ma...\n"
     ]
    },
    {
     "name": "stderr",
     "output_type": "stream",
     "text": [
      "/opt/conda/envs/pyGEOL/lib/python3.7/site-packages/ipykernel_launcher.py:123: RuntimeWarning: invalid value encountered in true_divide\n",
      "/opt/conda/envs/pyGEOL/lib/python3.7/site-packages/ipykernel_launcher.py:124: RuntimeWarning: invalid value encountered in true_divide\n",
      "/opt/conda/envs/pyGEOL/lib/python3.7/site-packages/cartopy/mpl/geoaxes.py:1752: RuntimeWarning: invalid value encountered in less\n",
      "  u, v = self.projection.transform_vectors(t, x, y, u, v)\n",
      "/opt/conda/envs/pyGEOL/lib/python3.7/site-packages/cartopy/mpl/geoaxes.py:1752: RuntimeWarning: invalid value encountered in greater\n",
      "  u, v = self.projection.transform_vectors(t, x, y, u, v)\n",
      "/opt/conda/envs/pyGEOL/lib/python3.7/site-packages/cartopy/mpl/geoaxes.py:1752: UserWarning: Some vectors at source domain corners may not have been transformed correctly\n",
      "  u, v = self.projection.transform_vectors(t, x, y, u, v)\n",
      "/opt/conda/envs/pyGEOL/lib/python3.7/site-packages/cartopy/mpl/geoaxes.py:1752: RuntimeWarning: invalid value encountered in subtract\n",
      "  u, v = self.projection.transform_vectors(t, x, y, u, v)\n"
     ]
    },
    {
     "name": "stdout",
     "output_type": "stream",
     "text": [
      "plotting 0Ma\n",
      "Age grid url has not been set. Not downloading age grid file.\n",
      "reconstructing at 5 Ma...\n"
     ]
    },
    {
     "name": "stderr",
     "output_type": "stream",
     "text": [
      "/opt/conda/envs/pyGEOL/lib/python3.7/site-packages/ipykernel_launcher.py:123: RuntimeWarning: invalid value encountered in true_divide\n",
      "/opt/conda/envs/pyGEOL/lib/python3.7/site-packages/ipykernel_launcher.py:124: RuntimeWarning: invalid value encountered in true_divide\n",
      "/opt/conda/envs/pyGEOL/lib/python3.7/site-packages/cartopy/mpl/geoaxes.py:1752: RuntimeWarning: invalid value encountered in less\n",
      "  u, v = self.projection.transform_vectors(t, x, y, u, v)\n",
      "/opt/conda/envs/pyGEOL/lib/python3.7/site-packages/cartopy/mpl/geoaxes.py:1752: RuntimeWarning: invalid value encountered in greater\n",
      "  u, v = self.projection.transform_vectors(t, x, y, u, v)\n",
      "/opt/conda/envs/pyGEOL/lib/python3.7/site-packages/cartopy/mpl/geoaxes.py:1752: UserWarning: Some vectors at source domain corners may not have been transformed correctly\n",
      "  u, v = self.projection.transform_vectors(t, x, y, u, v)\n",
      "/opt/conda/envs/pyGEOL/lib/python3.7/site-packages/cartopy/mpl/geoaxes.py:1752: RuntimeWarning: invalid value encountered in subtract\n",
      "  u, v = self.projection.transform_vectors(t, x, y, u, v)\n"
     ]
    },
    {
     "name": "stdout",
     "output_type": "stream",
     "text": [
      "plotting 5Ma\n",
      "Age grid url has not been set. Not downloading age grid file.\n",
      "reconstructing at 10 Ma...\n"
     ]
    },
    {
     "name": "stderr",
     "output_type": "stream",
     "text": [
      "/opt/conda/envs/pyGEOL/lib/python3.7/site-packages/ipykernel_launcher.py:123: RuntimeWarning: invalid value encountered in true_divide\n",
      "/opt/conda/envs/pyGEOL/lib/python3.7/site-packages/ipykernel_launcher.py:124: RuntimeWarning: invalid value encountered in true_divide\n",
      "/opt/conda/envs/pyGEOL/lib/python3.7/site-packages/cartopy/mpl/geoaxes.py:1752: RuntimeWarning: invalid value encountered in less\n",
      "  u, v = self.projection.transform_vectors(t, x, y, u, v)\n",
      "/opt/conda/envs/pyGEOL/lib/python3.7/site-packages/cartopy/mpl/geoaxes.py:1752: RuntimeWarning: invalid value encountered in greater\n",
      "  u, v = self.projection.transform_vectors(t, x, y, u, v)\n",
      "/opt/conda/envs/pyGEOL/lib/python3.7/site-packages/cartopy/mpl/geoaxes.py:1752: RuntimeWarning: invalid value encountered in subtract\n",
      "  u, v = self.projection.transform_vectors(t, x, y, u, v)\n"
     ]
    },
    {
     "name": "stdout",
     "output_type": "stream",
     "text": [
      "plotting 10Ma\n",
      "Age grid url has not been set. Not downloading age grid file.\n",
      "reconstructing at 15 Ma...\n"
     ]
    },
    {
     "name": "stderr",
     "output_type": "stream",
     "text": [
      "/opt/conda/envs/pyGEOL/lib/python3.7/site-packages/ipykernel_launcher.py:123: RuntimeWarning: invalid value encountered in true_divide\n",
      "/opt/conda/envs/pyGEOL/lib/python3.7/site-packages/ipykernel_launcher.py:124: RuntimeWarning: invalid value encountered in true_divide\n",
      "/opt/conda/envs/pyGEOL/lib/python3.7/site-packages/cartopy/mpl/geoaxes.py:1752: RuntimeWarning: invalid value encountered in less\n",
      "  u, v = self.projection.transform_vectors(t, x, y, u, v)\n",
      "/opt/conda/envs/pyGEOL/lib/python3.7/site-packages/cartopy/mpl/geoaxes.py:1752: RuntimeWarning: invalid value encountered in greater\n",
      "  u, v = self.projection.transform_vectors(t, x, y, u, v)\n",
      "/opt/conda/envs/pyGEOL/lib/python3.7/site-packages/cartopy/mpl/geoaxes.py:1752: RuntimeWarning: invalid value encountered in subtract\n",
      "  u, v = self.projection.transform_vectors(t, x, y, u, v)\n"
     ]
    },
    {
     "name": "stdout",
     "output_type": "stream",
     "text": [
      "plotting 15Ma\n"
     ]
    }
   ],
   "source": [
    "%matplotlib inline\n",
    "\n",
    "import numpy as np\n",
    "import matplotlib.pyplot as plt\n",
    "import matplotlib.cm as cm\n",
    "from matplotlib.colors import Normalize\n",
    "from matplotlib.colors import LinearSegmentedColormap\n",
    "import matplotlib.ticker as mticker\n",
    "from cartopy.mpl.gridliner import LONGITUDE_FORMATTER, LATITUDE_FORMATTER\n",
    "import cartopy.crs as ccrs\n",
    "from netCDF4 import Dataset\n",
    "from shapely.geometry.polygon import LinearRing\n",
    "\n",
    "import Utils, pygplates\n",
    "from parameters import parameters\n",
    "\n",
    "#\n",
    "# The central point of the Orthographic projection\n",
    "#\n",
    "central_lon=-40.0\n",
    "central_lat=-20.0\n",
    "\n",
    "draw_velocity_vectors = True\n",
    "\n",
    "rotation_files = Utils.get_files(parameters['rotation_files'])\n",
    "topology_files = Utils.get_files(parameters[\"topology_files\"])\n",
    "\n",
    "agegrid_cmap = Utils.get_age_grid_color_map_from_cpt('agegrid.cpt')\n",
    "\n",
    "for time in range(0, 16, 5):\n",
    "    agegrid_file = Utils.download_agegrid(time)\n",
    "    #reconstruct coastlines and topology\n",
    "    print(f\"reconstructing at {time} Ma...\")\n",
    "\n",
    "    resolved_topologies = []\n",
    "    shared_boundary_sections = []\n",
    "    #use pygplates to resolve the topologies\n",
    "    pygplates.resolve_topologies(topology_files, rotation_files, resolved_topologies, time, \n",
    "                                 shared_boundary_sections)\n",
    "\n",
    "    #reconstruct ore deposits\n",
    "    reconstructed_deposits = []\n",
    "    pygplates.reconstruct(\n",
    "                    'input_data/NA_positives.gpmlz', \n",
    "                    rotation_files, \n",
    "                    reconstructed_deposits, \n",
    "                    time, 0)\n",
    "\n",
    "    #coastlines\n",
    "    reconstructed_geometries = []\n",
    "    pygplates.reconstruct(\n",
    "                    parameters['coastlines'], \n",
    "                    rotation_files, \n",
    "                    reconstructed_geometries, \n",
    "                    time, 0)\n",
    "\n",
    "    #subduction zones\n",
    "    subduction_geoms=[]\n",
    "    Utils.get_subduction_geometries(subduction_geoms, shared_boundary_sections)\n",
    "\n",
    "    #velocity vectors\n",
    "    x,y, u,v = Utils.get_velocity_x_y_u_v(time,pygplates.RotationModel(rotation_files),topology_files)\n",
    "\n",
    "    # plot the map\n",
    "    fig = plt.figure(figsize=(12,8),dpi=96)\n",
    "    ax = plt.axes(projection=ccrs.Orthographic(central_longitude=central_lon, central_latitude=central_lat))\n",
    "    ax.gridlines()\n",
    "\n",
    "    if agegrid_file:\n",
    "        img = Dataset(agegrid_file) #age grid\n",
    "        cb=ax.imshow(img.variables['z'], origin='lower', transform=ccrs.PlateCarree(),\n",
    "              extent=[-180, 180, -90, 90], vmax=230, vmin=0, cmap=agegrid_cmap)\n",
    "\n",
    "    #plot coastlines\n",
    "    for geom in reconstructed_geometries:\n",
    "        lat, lon =zip(*(geom.get_reconstructed_geometry().to_lat_lon_list()))\n",
    "        plt.plot(lon, lat,\n",
    "             color='black', linewidth=.5, #the coastlines in black\n",
    "             transform=ccrs.Geodetic(),\n",
    "        )\n",
    "        \n",
    "    #plot deposits\n",
    "    deposit_lons=[]\n",
    "    deposit_lats=[]\n",
    "    deposit_ages=[]\n",
    "    for geom in reconstructed_deposits:\n",
    "        lat, lon = geom.get_reconstructed_geometry().to_lat_lon()\n",
    "        deposit_lons.append(lon)\n",
    "        deposit_lats.append(lat)\n",
    "        begin_time, end_time = geom.get_feature().get_valid_time()\n",
    "        deposit_ages.append(begin_time)\n",
    "    ax.scatter(deposit_lons, deposit_lats, 50, marker='.',c=deposit_ages,  \n",
    "               cmap=agegrid_cmap, vmax=230, vmin=0, transform=ccrs.PlateCarree())\n",
    "\n",
    "    #plot topological plates boundaries\n",
    "    for t in resolved_topologies:\n",
    "        lat, lon =zip(*(t.get_resolved_boundary().to_lat_lon_list()))\n",
    "        plt.plot(lon, lat,\n",
    "             color='blue', linewidth=.5, #the topological plates boundaries in blue\n",
    "             transform=ccrs.Geodetic(),\n",
    "        )\n",
    "\n",
    "    #plot subduction zones\n",
    "    for geom, aspect in subduction_geoms:\n",
    "        lat, lon =zip(*(geom.to_lat_lon_list()))\n",
    "        plt.plot(lon, lat,\n",
    "             color='blue', linewidth=1.5, #the subduction zones in blue\n",
    "             transform=ccrs.Geodetic(),\n",
    "        )\n",
    "        teeth = Utils.get_subduction_teeth(lon, lat, triangle_aspect=aspect)\n",
    "        for tooth in teeth:\n",
    "            ring = LinearRing(tooth)\n",
    "            ax.add_geometries([ring], ccrs.PlateCarree(), facecolor='b', edgecolor='black', alpha=1)\n",
    "\n",
    "\n",
    "    if draw_velocity_vectors:\n",
    "        #draw the velocity vectors\n",
    "        #Some arrows are long and some are very short. To make the plot clearer, we nomalize the velocity magnitude.\n",
    "        #And use color to denote the different speed.\n",
    "        u = np.array(u)\n",
    "        v = np.array(v)\n",
    "        mag = np.sqrt(u*u+v*v)\n",
    "        u = u/mag\n",
    "        v = v/mag\n",
    "        ax.quiver(x, y, u, v, mag,transform=ccrs.PlateCarree(),cmap='jet')    \n",
    "\n",
    "    plt.title(f'{time} Ma')\n",
    "    if agegrid_file:\n",
    "       fig.colorbar(cb, shrink=0.5, label='Age(Ma)', orientation=\"horizontal\", pad=0.05)\n",
    "\n",
    "    plt.savefig(Utils.get_tmp_dir() + f'ortho_{time}_Ma.png',bbox_inches='tight',pad_inches=0.1)\n",
    "    plt.close()\n",
    "    print(f'plotting {time}Ma')\n",
    "   \n"
   ]
  },
  {
   "cell_type": "code",
   "execution_count": 2,
   "metadata": {},
   "outputs": [
    {
     "ename": "ModuleNotFoundError",
     "evalue": "No module named 'moviepy'",
     "output_type": "error",
     "traceback": [
      "\u001b[0;31m---------------------------------------------------------------------------\u001b[0m",
      "\u001b[0;31mModuleNotFoundError\u001b[0m                       Traceback (most recent call last)",
      "\u001b[0;32m<ipython-input-2-65a0e254b0ee>\u001b[0m in \u001b[0;36m<module>\u001b[0;34m\u001b[0m\n\u001b[0;32m----> 1\u001b[0;31m \u001b[0;32mimport\u001b[0m \u001b[0mmoviepy\u001b[0m\u001b[0;34m.\u001b[0m\u001b[0meditor\u001b[0m \u001b[0;32mas\u001b[0m \u001b[0mmpy\u001b[0m\u001b[0;34m\u001b[0m\u001b[0;34m\u001b[0m\u001b[0m\n\u001b[0m\u001b[1;32m      2\u001b[0m \u001b[0;34m\u001b[0m\u001b[0m\n\u001b[1;32m      3\u001b[0m \u001b[0mframe_list\u001b[0m \u001b[0;34m=\u001b[0m \u001b[0;34m[\u001b[0m\u001b[0mUtils\u001b[0m\u001b[0;34m.\u001b[0m\u001b[0mget_tmp_dir\u001b[0m\u001b[0;34m(\u001b[0m\u001b[0;34m)\u001b[0m \u001b[0;34m+\u001b[0m \u001b[0;34mf'ortho_{time}_Ma.png'\u001b[0m \u001b[0;32mfor\u001b[0m \u001b[0mtime\u001b[0m \u001b[0;32min\u001b[0m \u001b[0mrange\u001b[0m\u001b[0;34m(\u001b[0m\u001b[0;36m230\u001b[0m\u001b[0;34m,\u001b[0m \u001b[0;34m-\u001b[0m\u001b[0;36m1\u001b[0m\u001b[0;34m,\u001b[0m \u001b[0;34m-\u001b[0m\u001b[0;36m5\u001b[0m\u001b[0;34m)\u001b[0m\u001b[0;34m]\u001b[0m\u001b[0;34m\u001b[0m\u001b[0;34m\u001b[0m\u001b[0m\n\u001b[1;32m      4\u001b[0m \u001b[0mclip\u001b[0m \u001b[0;34m=\u001b[0m \u001b[0mmpy\u001b[0m\u001b[0;34m.\u001b[0m\u001b[0mImageSequenceClip\u001b[0m\u001b[0;34m(\u001b[0m\u001b[0mframe_list\u001b[0m\u001b[0;34m,\u001b[0m \u001b[0mfps\u001b[0m\u001b[0;34m=\u001b[0m\u001b[0;36m2\u001b[0m\u001b[0;34m)\u001b[0m\u001b[0;34m\u001b[0m\u001b[0;34m\u001b[0m\u001b[0m\n\u001b[1;32m      5\u001b[0m \u001b[0mclip\u001b[0m\u001b[0;34m.\u001b[0m\u001b[0mwrite_videofile\u001b[0m\u001b[0;34m(\u001b[0m \u001b[0mUtils\u001b[0m\u001b[0;34m.\u001b[0m\u001b[0mget_tmp_dir\u001b[0m\u001b[0;34m(\u001b[0m\u001b[0;34m)\u001b[0m \u001b[0;34m+\u001b[0m \u001b[0;34m\"ortho_North_America.mp4\"\u001b[0m\u001b[0;34m)\u001b[0m\u001b[0;34m\u001b[0m\u001b[0;34m\u001b[0m\u001b[0m\n",
      "\u001b[0;31mModuleNotFoundError\u001b[0m: No module named 'moviepy'"
     ]
    }
   ],
   "source": [
    "%%capture --no-stdout\n",
    "\n",
    "import moviepy.editor as mpy\n",
    "\n",
    "frame_list = [Utils.get_tmp_dir() + f'ortho_{time}_Ma.png' for time in range(230, -1, -5)]\n",
    "clip = mpy.ImageSequenceClip(frame_list, fps=2)\n",
    "clip.write_videofile( Utils.get_tmp_dir() + \"ortho_North_America.mp4\")\n",
    "print('video has been created!')"
   ]
  },
  {
   "cell_type": "code",
   "execution_count": null,
   "metadata": {},
   "outputs": [],
   "source": []
  }
 ],
 "metadata": {
  "kernelspec": {
   "display_name": "Python 3",
   "language": "python",
   "name": "python3"
  },
  "language_info": {
   "codemirror_mode": {
    "name": "ipython",
    "version": 3
   },
   "file_extension": ".py",
   "mimetype": "text/x-python",
   "name": "python",
   "nbconvert_exporter": "python",
   "pygments_lexer": "ipython3",
   "version": "3.7.7"
  }
 },
 "nbformat": 4,
 "nbformat_minor": 4
}
