{
 "cells": [
  {
   "cell_type": "code",
   "execution_count": 1,
   "metadata": {},
   "outputs": [
    {
     "name": "stdout",
     "output_type": "stream",
     "text": [
      "For South America:\n",
      "[ 4  5  6  7  8  9 10 11 12 13 14 15 16 17 19 20 21 22 23 29 31 32 33 34\n",
      " 35 36 37 38 39 40 41 42 43 44 45 48 50 51 52 54 55 57 58 59 62 63 64]\n",
      "47\n"
     ]
    }
   ],
   "source": [
    "import csv\n",
    "import numpy as np\n",
    "\n",
    "# #NA_positive_data = pd.read_csv('case_AREPS/coreg_output_clean/NA/positive_deposits.csv')\n",
    "\n",
    "# filename = 'case_AREPS/coreg_output_clean/NA/positive_deposits.csv'\n",
    "\n",
    "# lats, lons, minage = [], [], []\n",
    "\n",
    "# with open(filename) as f:\n",
    "#     reader = csv.reader(f)\n",
    "#     next(reader)\n",
    "#     for row in reader:\n",
    "#         lats.append(float(row[1]))\n",
    "#         lons.append(float(row[0]))\n",
    "#         minage.append(float(row[2]))\n",
    "\n",
    "        \n",
    "# NA_occurrences = []\n",
    "# NA_dep_ages = []\n",
    "        \n",
    "# NA_occurrences = np.bincount(minage)\n",
    "\n",
    "# for n in range(1, len(NA_occurrences)):\n",
    "#     if NA_occurrences[n] > 0:\n",
    "#         NA_dep_ages.append(n)\n",
    "\n",
    "# print('For North America:')\n",
    "# #print(non_dep_ages)\n",
    "# NA_dep_ages = np.array(NA_dep_ages)\n",
    "# print(NA_dep_ages)\n",
    "# print(len(NA_dep_ages))\n",
    "# #print(len(non_dep_ages))\n",
    "# print('')\n",
    "\n",
    "filename = 'case_AREPS/coreg_output_clean/SA/positive_deposits.csv'\n",
    "\n",
    "lats, lons, minage = [], [], []\n",
    "\n",
    "with open(filename) as f:\n",
    "    reader = csv.reader(f)\n",
    "    next(reader)\n",
    "    for row in reader:\n",
    "        lats.append(float(row[1]))\n",
    "        lons.append(float(row[0]))\n",
    "        minage.append(float(row[2]))\n",
    "\n",
    "\n",
    "SA_occurrences = []\n",
    "SA_dep_ages = []\n",
    "        \n",
    "SA_occurrences = np.bincount(minage)\n",
    "\n",
    "for n in range(1, len(SA_occurrences)):\n",
    "    if SA_occurrences[n] > 0:\n",
    "        SA_dep_ages.append(n)\n",
    "        \n",
    "print('For South America:')\n",
    "#print(SA_non_dep_ages)\n",
    "SA_dep_ages = np.array(SA_dep_ages)\n",
    "print(SA_dep_ages)\n",
    "print(len(SA_dep_ages))\n",
    "#print(len(non_dep_ages))\n",
    "#print((occurrences))"
   ]
  },
  {
   "cell_type": "code",
   "execution_count": 2,
   "metadata": {},
   "outputs": [
    {
     "name": "stdout",
     "output_type": "stream",
     "text": [
      "Initial number of data points for South America: \n",
      "606\n",
      "Final number of data points for South America: \n",
      "556\n"
     ]
    }
   ],
   "source": [
    "\n",
    "# importing pandas module \n",
    "import pandas as pd \n",
    "\n",
    "#NA_volcanics = 'case_AREPS/coreg_output_clean/NA/negative_deposits.csv'\n",
    "SA_volcanics = 'case_AREPS/coreg_output_clean/SA/negative_deposits.csv'\n",
    "\n",
    "\n",
    "# making data frame from csv file \n",
    "#NA_data = pd.read_csv(NA_volcanics, index_col =\"age\" )\n",
    "SA_data = pd.read_csv(SA_volcanics, index_col =\"age\" ) \n",
    "\n",
    "# print('Initial number of data points for North America: ')\n",
    "# print(NA_data.shape[0])\n",
    "print('Initial number of data points for South America: ')\n",
    "print(SA_data.shape[0])\n",
    "\n",
    "# dropping passed values \n",
    "# NA_data.drop(NA_dep_ages, inplace=True, errors='ignore') \n",
    "SA_data.drop(SA_dep_ages, inplace=True, errors='ignore')\n",
    "\n",
    "# print('Final number of data points for North America: ')\n",
    "# print(NA_data.shape[0])\n",
    "print('Final number of data points for South America: ')\n",
    "print(SA_data.shape[0])\n",
    "\n",
    "# NA_data.to_csv('case_AREPS/coreg_output_clean/NA/negative_deposits_cleaned.csv', index=True)\n",
    "SA_data.to_csv('case_AREPS/coreg_output_clean/SA/negative_deposits_cleaned.csv', index=True)\n",
    "#print(non_dep_ages)\n",
    "#random_ages_nondep = np.array(non_dep_ages)"
   ]
  },
  {
   "cell_type": "code",
   "execution_count": 3,
   "metadata": {},
   "outputs": [],
   "source": [
    "import pandas as pd\n",
    "\n",
    "#NA_positive_data = pd.read_csv('case_AREPS/coreg_output_clean/NA/positive_deposits.csv')\n",
    "#NA_negative_data = pd.read_csv('case_AREPS/coreg_output_clean/NA/negative_deposits_cleaned.csv')\n",
    "\n",
    "SA_positive_data = pd.read_csv('case_AREPS/coreg_output_clean/SA/positive_deposits.csv')\n",
    "SA_negative_data = pd.read_csv('case_AREPS/coreg_output_clean/SA/negative_deposits_cleaned.csv')\n",
    "\n",
    "\n",
    "\n",
    "#NA_positive_data['label']='NA_Porphyries'\n",
    "#NA_negative_data['label']='NA_Volcanics'\n",
    "SA_positive_data['label']='SA_Porphyries'\n",
    "SA_negative_data['label']='SA_Volcanics'\n",
    "\n",
    "# frames = [NA_positive_data, NA_negative_data, SA_positive_data, SA_negative_data]\n",
    "frames = [SA_positive_data, SA_negative_data]\n",
    "\n",
    "result = pd.concat(frames)\n",
    "\n",
    "result.to_csv('case_AREPS/coreg_output_clean/all_data_iogas.csv', index=True)"
   ]
  },
  {
   "cell_type": "code",
   "execution_count": null,
   "metadata": {},
   "outputs": [],
   "source": []
  }
 ],
 "metadata": {
  "kernelspec": {
   "display_name": "Python 3",
   "language": "python",
   "name": "python3"
  },
  "language_info": {
   "codemirror_mode": {
    "name": "ipython",
    "version": 3
   },
   "file_extension": ".py",
   "mimetype": "text/x-python",
   "name": "python",
   "nbconvert_exporter": "python",
   "pygments_lexer": "ipython3",
   "version": "3.7.6"
  }
 },
 "nbformat": 4,
 "nbformat_minor": 2
}
