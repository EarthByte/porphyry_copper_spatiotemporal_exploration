{
 "cells": [
  {
   "cell_type": "code",
   "execution_count": 1,
   "metadata": {},
   "outputs": [
    {
     "name": "stdout",
     "output_type": "stream",
     "text": [
      "(12398, 359)\n",
      "['Year', 'CITATION', 'SAMPLE NAME', 'UNIQUE_ID', 'LOCATION', 'ELEVATION (MIN.)', 'ELEVATION (MAX.)', 'SAMPLING TECHNIQUE', 'DRILLING DEPTH (MIN.)', 'DRILLING DEPTH (MAX.)', 'LAND/SEA (SAMPLING)', 'ROCK TYPE', 'ROCK NAME', 'ROCK TEXTURE', 'SAMPLE COMMENT', 'AGE (MIN.)', 'Age_MA', 'AGE (MAX.)', 'GEOLOGICAL AGE', 'GEOLOGICAL AGE PREFIX', 'ERUPTION DAY', 'ERUPTION MONTH', 'ERUPTION YEAR', 'ALTERATION', 'ALTERATION TYPE', 'TYPE OF MATERIAL', 'MINERAL / COMPONENT', 'SPOT (MINERAL)', 'CRYSTAL', 'RIM / CORE (MINERAL GRAINS)', 'PRIMARY/SECONDARY', 'INCLUSION TYPE', 'MINERAL (INCLUSION)', 'RIM / CORE (INCLUSION)', 'HOSTMINERAL (INCLUSION)', 'LATITUDE (MIN.)', 'LONGITUDE (MIN.)', 'LATITUDE (MAX.)', 'LONGITUDE (MAX.)', 'SIO2(WT%)', 'TIO2(WT%)', 'ZRO2(WT%)', 'THO2(WT%)', 'UO2(WT%)', 'AL2O3(WT%)', 'CR2O3(WT%)', 'LA2O3(WT%)', 'CE2O3(WT%)', 'ND2O3(WT%)', 'SM2O3(WT%)', 'EU2O3(WT%)', 'GD2O3(WT%)', 'TB2O3(WT%)', 'DY2O3(WT%)', 'HO2O3(WT%)', 'ER2O3(WT%)', 'TM2O3(WT%)', 'YB2O3(WT%)', 'LU2O3(WT%)', 'Y2O3(WT%)', 'V2O3(WT%)', 'NB2O5(WT%)', 'TA2O5(WT%)', 'PR2O3(WT%)', 'FE2O3T(WT%)', 'FE2O3(WT%)', 'FEOT(WT%)', 'FEO(WT%)', 'CAO(WT%)', 'MGO(WT%): altern. values or methods', 'Unnamed: 70', 'Unnamed: 71', 'Unnamed: 72', 'MNO(WT%)', 'BAO(WT%)', 'SRO(WT%)', 'NIO(WT%)', 'ZNO(WT%)', 'K2O(WT%): altern. values or methods', 'Unnamed: 79', 'Unnamed: 80', 'Unnamed: 81', 'NA2O(WT%)', 'P2O5(WT%)', 'H2O(WT%): altern. values or methods', 'Unnamed: 85', 'Unnamed: 86', 'Unnamed: 87', 'H2OP(WT%)', 'H2OM(WT%)', 'CO2(WT%)', 'F(WT%): altern. values or methods', 'Unnamed: 92', 'Unnamed: 93', 'Unnamed: 94', 'CL(WT%): altern. values or methods', 'Unnamed: 96', 'Unnamed: 97', 'Unnamed: 98', 'OH(WT%)', 'SO2(WT%)', 'SO3(WT%)', 'S(WT%)', 'LOI(WT%)', 'O(WT%)', 'SI(WT%)', 'FE(WT%)', 'K(WT%)', 'CO(WT%)', 'CU(WT%)', 'NI(WT%)', 'HE4(CCMSTP/G)', 'LI(PPM)', 'LI6(PPM)', 'LI7(PPM)', 'BE(PPM)', 'BE10(AT/G)', 'B(PPM)', 'B(PPB)', 'C(PPM)', 'F(PPM): altern. values or methods', 'Unnamed: 121', 'Unnamed: 122', 'Unnamed: 123', 'NA(PPM)', 'MG(PPM)', 'AL(PPM)', 'SI(PPM)', 'P(PPM)', 'S(PPM): altern. values or methods', 'Unnamed: 130', 'Unnamed: 131', 'Unnamed: 132', 'CL(PPM): altern. values or methods', 'Unnamed: 134', 'Unnamed: 135', 'Unnamed: 136', 'AR(CCMSTP/G)', 'AR36(CCMSTP/G)', 'AR37(CCMSTP/G)', 'AR38(CCMSTP/G)', 'AR39(CCMSTP/G)', 'AR40(CCMSTP/G): altern. values or methods', 'Unnamed: 143', 'Unnamed: 144', 'Unnamed: 145', 'AR40(MOL/G)', 'K(PPM)', 'CA(PPM)', 'SC(PPM): altern. values or methods', 'Unnamed: 150', 'Unnamed: 151', 'Unnamed: 152', 'TI(PPM)', 'V(PPM)', 'CR(PPM): altern. values or methods', 'Unnamed: 156', 'Unnamed: 157', 'Unnamed: 158', 'MN(PPM)', 'FE(PPM)', 'CO(PPM)', 'NI(PPM)', 'CU(PPM)', 'ZN(PPM)', 'GA(PPM)', 'GE(PPM)', 'AS(PPM)', 'SE(PPM)', 'BR(PPM)', 'RB(PPM): altern. values or methods', 'Unnamed: 171', 'Unnamed: 172', 'Unnamed: 173', 'Unnamed: 174', 'Unnamed: 175', 'Unnamed: 176', 'Unnamed: 177', 'SR(PPM): altern. values or methods', 'Unnamed: 179', 'Unnamed: 180', 'Unnamed: 181', 'Unnamed: 182', 'Unnamed: 183', 'Unnamed: 184', 'Unnamed: 185', 'Y(PPM): altern. values or methods', 'Unnamed: 187', 'Unnamed: 188', 'Unnamed: 189', 'ZR(PPM): altern. values or methods', 'Unnamed: 191', 'Unnamed: 192', 'Unnamed: 193', 'NB(PPM): altern. values or methods', 'Unnamed: 195', 'Unnamed: 196', 'Unnamed: 197', 'MO(PPM)', 'PD(PPM)', 'AG(PPM)', 'CD(PPM)', 'IN(PPM)', 'SN(PPM)', 'SB(PPM)', 'TE(PPM)', 'CS(PPM)', 'BA(PPM): altern. values or methods', 'Unnamed: 208', 'Unnamed: 209', 'Unnamed: 210', 'LA(PPM): altern. values or methods', 'Unnamed: 212', 'Unnamed: 213', 'Unnamed: 214', 'CE(PPM): altern. values or methods', 'Unnamed: 216', 'Unnamed: 217', 'Unnamed: 218', 'PR(PPM)', 'ND(PPM): altern. values or methods', 'Unnamed: 221', 'Unnamed: 222', 'Unnamed: 223', 'Unnamed: 224', 'Unnamed: 225', 'SM(PPM): altern. values or methods', 'Unnamed: 227', 'Unnamed: 228', 'Unnamed: 229', 'Unnamed: 230', 'Unnamed: 231', 'EU(PPM)', 'GD(PPM)', 'TB(PPM)', 'DY(PPM)', 'HO(PPM)', 'ER(PPM)', 'TM(PPM)', 'YB(PPM)', 'LU(PPM)', 'HF(PPM)', 'TA(PPM)', 'W(PPM)', 'RE(PPT)', 'OS(PPT)', 'IR(PPM)', 'AU(PPM)', 'HG(PPM)', 'TL(PPM)', 'PB(PPM): altern. values or methods', 'Unnamed: 251', 'Unnamed: 252', 'Unnamed: 253', 'BI(PPM)', 'TH(PPM): altern. values or methods', 'Unnamed: 256', 'Unnamed: 257', 'Unnamed: 258', 'U(PPM)', 'CO2(PPM)', 'EPSILON_CA40: altern. values or methods', 'Unnamed: 262', 'Unnamed: 263', 'Unnamed: 264', 'ND143_ND144: altern. values or methods', 'Unnamed: 266', 'Unnamed: 267', 'Unnamed: 268', 'ND143_ND144_INI', 'SM147_ND144: altern. values or methods', 'Unnamed: 271', 'Unnamed: 272', 'Unnamed: 273', 'SR87_SR86: altern. values or methods', 'Unnamed: 275', 'Unnamed: 276', 'Unnamed: 277', 'SR87_SR86_INI', 'RB87_SR86: altern. values or methods', 'Unnamed: 280', 'Unnamed: 281', 'Unnamed: 282', 'PB206_PB204', 'PB206_PB204_INI', 'PB207_PB204', 'PB207_PB204_INI', 'PB207_PB206', 'PB208_PB204', 'PB208_PB204_INI', 'PB208_PB206', 'OS187_OS188', 'RE187_OS188', 'HF176_HF177', 'HF178_HF177', 'HF180_HF177', 'LU176_HF177', 'YB176_HF177', 'HE3_HE4(R/R(A))', 'AR36_AR39', 'AR37_AR39', 'AR40_AR39', 'PB206_U238', 'PB207_U235', 'PB208_TH232', 'TH230_TH232_ACT', 'TH232_PB204', 'TH232_U238', 'U235_PB204', 'U238_PB204', 'U238_PB206', 'D11B(�)', 'D11B(�NBS951)', 'D13C(�)', 'D13C(�PDB)', 'D13C(�VPDB)', 'D18O(�)', 'D18O(�SMOW)', 'D18O(�VSMOW)', 'DD(�SMOW)', 'ALBITE(MOL%)', 'ACMITE(MOL%)', 'ANORTHITE(MOL%)', 'CELSIAN(MOL%)', 'ENSTATITE(MOL%)', 'FAYALITE(MOL%)', 'FORSTERITE(MOL%)', 'FERROSILITE(MOL%)', 'HEMATITE(MOL%)', 'ILMENITE(MOL%)', 'LARNITE(MOL%)', 'MAGNETITE(MOL%)', 'ORTHOCLASE(MOL%)', 'QUARTZ(MOL%)', 'TEPHROITE(MOL%)', 'ULVOSPINEL(MOL%)', 'WOLLASTONITE(MOL%)', 'AGE(KA): altern. values or methods', 'Unnamed: 338', 'Unnamed: 339', 'Unnamed: 340', 'Unnamed: 341', 'Unnamed: 342', 'AGE(MA): altern. values or methods', 'Unnamed: 344', 'Unnamed: 345', 'Unnamed: 346', 'Unnamed: 347', 'Unnamed: 348', 'AGE_PB207_PB206(MA): altern. values or methods', 'Unnamed: 350', 'Unnamed: 351', 'Unnamed: 352', 'AGE_PB207_U235(MA)', 'AGE_PB206_U238(MA): altern. values or methods', 'Unnamed: 355', 'Unnamed: 356', 'Unnamed: 357', 'AGE_PB208_TH232(MA)']\n"
     ]
    }
   ],
   "source": [
    "import numpy as np\n",
    "import pandas as pd\n",
    "import sys\n",
    "\n",
    "\n",
    "# db = pd.read_csv('NA_Non_Deposits_volcanic.csv', sep=',', \n",
    "#                  dtype={'SIO2(WT%)': object, 'TIO2(WT%)': float, 'AL2O3(WT%)': float,'FE2O3T(WT%)': float,\n",
    "#                         'CAO(WT%)': float, 'MGO(WT%): altern. values or methods': float, 'MNO(WT%)': float, \n",
    "#                         'K2O(WT%): altern. values or methods': float, 'NA2O(WT%)': float, 'P2O5(WT%)': float, \n",
    "#                         'EU(PPM)': float}, keep_default_na=False, na_filter=True, engine = 'python')\n",
    "                        \n",
    "db = pd.read_csv('NA_Non_Deposits_volcanic.csv', sep=',',keep_default_na=False, na_filter=True, engine = 'python')                  \n",
    "print(db.shape)\n",
    "print(list(db.columns.values))"
   ]
  },
  {
   "cell_type": "code",
   "execution_count": 2,
   "metadata": {},
   "outputs": [
    {
     "name": "stdout",
     "output_type": "stream",
     "text": [
      "(12398, 109)\n",
      "['ROCK TYPE', 'AGE (MIN.)', 'Age_MA', 'AGE (MAX.)', 'GEOLOGICAL AGE', 'ALTERATION', 'ALTERATION TYPE', 'LATITUDE (MIN.)', 'LONGITUDE (MIN.)', 'LATITUDE (MAX.)', 'LONGITUDE (MAX.)', 'SIO2(WT%)', 'TIO2(WT%)', 'AL2O3(WT%)', 'FE2O3T(WT%)', 'FE2O3(WT%)', 'FEOT(WT%)', 'FEO(WT%)', 'CAO(WT%)', 'MGO(WT%): altern. values or methods', 'MNO(WT%)', 'K2O(WT%): altern. values or methods', 'NA2O(WT%)', 'P2O5(WT%)', 'LOI(WT%)', 'LI(PPM)', 'LI6(PPM)', 'LI7(PPM)', 'BE(PPM)', 'BE10(AT/G)', 'B(PPM)', 'B(PPB)', 'C(PPM)', 'F(PPM): altern. values or methods', 'NA(PPM)', 'MG(PPM)', 'AL(PPM)', 'SI(PPM)', 'P(PPM)', 'S(PPM): altern. values or methods', 'CL(PPM): altern. values or methods', 'K(PPM)', 'CA(PPM)', 'SC(PPM): altern. values or methods', 'TI(PPM)', 'V(PPM)', 'CR(PPM): altern. values or methods', 'MN(PPM)', 'FE(PPM)', 'CO(PPM)', 'NI(PPM)', 'CU(PPM)', 'ZN(PPM)', 'GA(PPM)', 'GE(PPM)', 'AS(PPM)', 'SE(PPM)', 'BR(PPM)', 'RB(PPM): altern. values or methods', 'SR(PPM): altern. values or methods', 'Y(PPM): altern. values or methods', 'ZR(PPM): altern. values or methods', 'NB(PPM): altern. values or methods', 'MO(PPM)', 'PD(PPM)', 'AG(PPM)', 'CD(PPM)', 'IN(PPM)', 'SN(PPM)', 'SB(PPM)', 'TE(PPM)', 'CS(PPM)', 'BA(PPM): altern. values or methods', 'LA(PPM): altern. values or methods', 'CE(PPM): altern. values or methods', 'PR(PPM)', 'ND(PPM): altern. values or methods', 'SM(PPM): altern. values or methods', 'EU(PPM)', 'GD(PPM)', 'TB(PPM)', 'DY(PPM)', 'HO(PPM)', 'ER(PPM)', 'TM(PPM)', 'YB(PPM)', 'LU(PPM)', 'HF(PPM)', 'TA(PPM)', 'W(PPM)', 'RE(PPT)', 'OS(PPT)', 'IR(PPM)', 'AU(PPM)', 'HG(PPM)', 'TL(PPM)', 'PB(PPM): altern. values or methods', 'BI(PPM)', 'TH(PPM): altern. values or methods', 'U(PPM)', 'CO2(PPM)', 'AGE(KA): altern. values or methods', 'AGE(MA): altern. values or methods', 'AGE_PB207_PB206(MA): altern. values or methods', 'AGE_PB207_U235(MA)', 'AGE_PB206_U238(MA): altern. values or methods', 'CO2(WT%)', 'H2O(WT%): altern. values or methods', 'S(WT%)']\n"
     ]
    }
   ],
   "source": [
    "db = db[['ROCK TYPE','AGE (MIN.)', 'Age_MA', 'AGE (MAX.)', 'GEOLOGICAL AGE','ALTERATION', 'ALTERATION TYPE',\n",
    "        'LATITUDE (MIN.)', 'LONGITUDE (MIN.)', 'LATITUDE (MAX.)', 'LONGITUDE (MAX.)', 'SIO2(WT%)', 'TIO2(WT%)', \n",
    "        'AL2O3(WT%)','FE2O3T(WT%)', 'FE2O3(WT%)', 'FEOT(WT%)', 'FEO(WT%)','CAO(WT%)', \n",
    "         'MGO(WT%): altern. values or methods', 'MNO(WT%)', \n",
    "         'K2O(WT%): altern. values or methods', 'NA2O(WT%)', \n",
    "         'P2O5(WT%)','LOI(WT%)',\n",
    "         \n",
    "         'LI(PPM)', 'LI6(PPM)', 'LI7(PPM)', 'BE(PPM)', 'BE10(AT/G)', 'B(PPM)', 'B(PPB)', 'C(PPM)', \n",
    "         'F(PPM): altern. values or methods', \n",
    "         'NA(PPM)', 'MG(PPM)', 'AL(PPM)', 'SI(PPM)', 'P(PPM)', 'S(PPM): altern. values or methods', \n",
    "         \n",
    "         'CL(PPM): altern. values or methods', \n",
    "         \n",
    "         'K(PPM)', 'CA(PPM)', 'SC(PPM): altern. values or methods', \n",
    "         'TI(PPM)', 'V(PPM)', 'CR(PPM): altern. values or methods', \n",
    "         'MN(PPM)', 'FE(PPM)', 'CO(PPM)', 'NI(PPM)', 'CU(PPM)', 'ZN(PPM)', 'GA(PPM)', \n",
    "         'GE(PPM)', 'AS(PPM)', 'SE(PPM)', 'BR(PPM)', 'RB(PPM): altern. values or methods', \n",
    "         'SR(PPM): altern. values or methods', \n",
    "         'Y(PPM): altern. values or methods', \n",
    "         'ZR(PPM): altern. values or methods', \n",
    "         'NB(PPM): altern. values or methods',  \n",
    "         'MO(PPM)', 'PD(PPM)', 'AG(PPM)', 'CD(PPM)', 'IN(PPM)', 'SN(PPM)', 'SB(PPM)', 'TE(PPM)', \n",
    "         'CS(PPM)', 'BA(PPM): altern. values or methods', \n",
    "         'LA(PPM): altern. values or methods', \n",
    "         'CE(PPM): altern. values or methods', \n",
    "         'PR(PPM)', 'ND(PPM): altern. values or methods', \n",
    "         'SM(PPM): altern. values or methods',  \n",
    "         'EU(PPM)', 'GD(PPM)', 'TB(PPM)', 'DY(PPM)', 'HO(PPM)', 'ER(PPM)', 'TM(PPM)', 'YB(PPM)', \n",
    "         'LU(PPM)', 'HF(PPM)', 'TA(PPM)', 'W(PPM)', 'RE(PPT)', 'OS(PPT)', 'IR(PPM)', 'AU(PPM)', \n",
    "         'HG(PPM)', 'TL(PPM)', 'PB(PPM): altern. values or methods',  \n",
    "         'BI(PPM)', 'TH(PPM): altern. values or methods', 'U(PPM)', 'CO2(PPM)',\n",
    "        'AGE(KA): altern. values or methods', 'AGE(MA): altern. values or methods', \n",
    "         'AGE_PB207_PB206(MA): altern. values or methods', 'AGE_PB207_U235(MA)', \n",
    "         'AGE_PB206_U238(MA): altern. values or methods', 'CO2(WT%)', 'H2O(WT%): altern. values or methods','S(WT%)']]\n",
    "\n",
    "\n",
    "print(db.shape)\n",
    "print(list(db.columns.values))\n"
   ]
  },
  {
   "cell_type": "code",
   "execution_count": 3,
   "metadata": {},
   "outputs": [
    {
     "name": "stdout",
     "output_type": "stream",
     "text": [
      "(12398, 109)\n",
      "['ROCK_TYPE', 'AGE (MIN.)', 'Age_MA', 'AGE (MAX.)', 'GEOLOGICAL_AGE', 'ALTERATION', 'ALTERATION_TYPE', 'LAT_MIN', 'LON_MIN', 'LAT_MAX', 'LON_MAX', 'SIO2(WT%)', 'TIO2(WT%)', 'AL2O3(WT%)', 'FE2O3T(WT%)', 'FE2O3(WT%)', 'FEOT(WT%)', 'FEO(WT%)', 'CAO(WT%)', 'MGO(WT%)', 'MNO(WT%)', 'K2O(WT%)', 'NA2O(WT%)', 'P2O5(WT%)', 'LOI(WT%)', 'LI(PPM)', 'LI6(PPM)', 'LI7(PPM)', 'BE(PPM)', 'BE10(AT/G)', 'B(PPM)', 'B(PPB)', 'C(PPM)', 'F(PPM)', 'NA(PPM)', 'MG(PPM)', 'AL(PPM)', 'SI(PPM)', 'P(PPM)', 'S(PPM)', 'CL(PPM)', 'K(PPM)', 'CA(PPM)', 'SC(PPM)', 'TI(PPM)', 'V(PPM)', 'CR(PPM)', 'MN(PPM)', 'FE(PPM)', 'CO(PPM)', 'NI(PPM)', 'CU(PPM)', 'ZN(PPM)', 'GA(PPM)', 'GE(PPM)', 'AS(PPM)', 'SE(PPM)', 'BR(PPM)', 'RB(PPM)', 'SR(PPM)', 'Y(PPM)', 'ZR(PPM)', 'NB(PPM)', 'MO(PPM)', 'PD(PPM)', 'AG(PPM)', 'CD(PPM)', 'IN(PPM)', 'SN(PPM)', 'SB(PPM)', 'TE(PPM)', 'CS(PPM)', 'BA(PPM)', 'LA(PPM)', 'CE(PPM)', 'PR(PPM)', 'ND(PPM)', 'SM(PPM)', 'EU(PPM)', 'GD(PPM)', 'TB(PPM)', 'DY(PPM)', 'HO(PPM)', 'ER(PPM)', 'TM(PPM)', 'YB(PPM)', 'LU(PPM)', 'HF(PPM)', 'TA(PPM)', 'W(PPM)', 'RE(PPT)', 'OS(PPT)', 'IR(PPM)', 'AU(PPM)', 'HG(PPM)', 'TL(PPM)', 'PB(PPM)', 'BI(PPM)', 'TH(PPM)', 'U(PPM)', 'CO2(PPM)', 'AGE(KA)', 'AGE(MA)', 'AGE_PB207_PB206(MA)', 'AGE_PB207_U235(MA)', 'AGE_PB206_U238(MA)', 'CO2(WT%)', 'H2O(WT%)', 'S(WT%)']\n"
     ]
    }
   ],
   "source": [
    "db.columns = ['ROCK_TYPE', 'AGE (MIN.)', 'Age_MA', 'AGE (MAX.)', 'GEOLOGICAL_AGE', 'ALTERATION', 'ALTERATION_TYPE', \n",
    "              'LAT_MIN', 'LON_MIN', 'LAT_MAX', 'LON_MAX', \n",
    "              'SIO2(WT%)', 'TIO2(WT%)', 'AL2O3(WT%)', 'FE2O3T(WT%)', 'FE2O3(WT%)', 'FEOT(WT%)', 'FEO(WT%)', 'CAO(WT%)', 'MGO(WT%)' , 'MNO(WT%)',\n",
    "              'K2O(WT%)', 'NA2O(WT%)', 'P2O5(WT%)', 'LOI(WT%)', \n",
    "              'LI(PPM)', 'LI6(PPM)', 'LI7(PPM)', 'BE(PPM)', 'BE10(AT/G)', 'B(PPM)', 'B(PPB)', 'C(PPM)', \n",
    "         'F(PPM)', \n",
    "         'NA(PPM)', 'MG(PPM)', 'AL(PPM)', 'SI(PPM)', 'P(PPM)', 'S(PPM)', \n",
    "         \n",
    "         'CL(PPM)', \n",
    "         \n",
    "         'K(PPM)', 'CA(PPM)', 'SC(PPM)', \n",
    "         'TI(PPM)', 'V(PPM)', 'CR(PPM)', \n",
    "         'MN(PPM)', 'FE(PPM)', 'CO(PPM)', 'NI(PPM)', 'CU(PPM)', 'ZN(PPM)', 'GA(PPM)', \n",
    "         'GE(PPM)', 'AS(PPM)', 'SE(PPM)', 'BR(PPM)', 'RB(PPM)', \n",
    "         'SR(PPM)', \n",
    "         'Y(PPM)', \n",
    "         'ZR(PPM)', \n",
    "         'NB(PPM)',  \n",
    "         'MO(PPM)', 'PD(PPM)', 'AG(PPM)', 'CD(PPM)', 'IN(PPM)', 'SN(PPM)', 'SB(PPM)', 'TE(PPM)', \n",
    "         'CS(PPM)', 'BA(PPM)', \n",
    "         'LA(PPM)', \n",
    "         'CE(PPM)', \n",
    "         'PR(PPM)', 'ND(PPM)', \n",
    "         'SM(PPM)',  \n",
    "         'EU(PPM)', 'GD(PPM)', 'TB(PPM)', 'DY(PPM)', 'HO(PPM)', 'ER(PPM)', 'TM(PPM)', 'YB(PPM)', \n",
    "         'LU(PPM)', 'HF(PPM)', 'TA(PPM)', 'W(PPM)', 'RE(PPT)', 'OS(PPT)', 'IR(PPM)', 'AU(PPM)', \n",
    "         'HG(PPM)', 'TL(PPM)', 'PB(PPM)',  \n",
    "         'BI(PPM)', 'TH(PPM)', 'U(PPM)', 'CO2(PPM)',\n",
    "              \n",
    "              \n",
    "              'AGE(KA)', 'AGE(MA)', \n",
    "              'AGE_PB207_PB206(MA)', 'AGE_PB207_U235(MA)', 'AGE_PB206_U238(MA)', 'CO2(WT%)', 'H2O(WT%)','S(WT%)']\n",
    "\n",
    "print(db.shape)\n",
    "print(list(db.columns.values))"
   ]
  },
  {
   "cell_type": "code",
   "execution_count": 4,
   "metadata": {},
   "outputs": [
    {
     "data": {
      "text/plain": [
       "array(['VOLCANIC ROCK', 'PLUTONIC ROCK'], dtype=object)"
      ]
     },
     "execution_count": 4,
     "metadata": {},
     "output_type": "execute_result"
    }
   ],
   "source": [
    "db.ROCK_TYPE.unique()"
   ]
  },
  {
   "cell_type": "code",
   "execution_count": 5,
   "metadata": {},
   "outputs": [
    {
     "name": "stdout",
     "output_type": "stream",
     "text": [
      "(9315, 109)\n"
     ]
    }
   ],
   "source": [
    "#db.Rock_Type_Code.unique()\n",
    "\n",
    "indexNames = db[ db['ROCK_TYPE'] == 'PLUTONIC ROCK' ].index\n",
    "db.drop(indexNames , inplace=True)\n",
    "print(db.shape)\n",
    "\n",
    "#db.to_csv('NA_Non_Deposits_volcanic_2.csv', index=True, header = True)"
   ]
  },
  {
   "cell_type": "code",
   "execution_count": 6,
   "metadata": {},
   "outputs": [
    {
     "data": {
      "text/plain": [
       "array(['HOLOCENE', 'PLINIAN', '', 'QUATERNARY', 'EOCENE', 'PLEISTOCENE',\n",
       "       'NEOGENE', 'PLIOCENE', 'CENOZOIC', 'PALEOZOIC', 'MIOCENE',\n",
       "       'TRIASSIC', 'JURASSIC', 'CRETACEOUS', 'PERMIAN', 'RECENT',\n",
       "       'OLIGOCENE', 'PALEOGENE', 'DEVONIAN', 'CARBONIFEROUS', 'PALEOCENE',\n",
       "       'MESOZOIC', 'PLIOCENE-QUATERNARY', 'PROTEROZOIC', 'ORDOVICIAN'],\n",
       "      dtype=object)"
      ]
     },
     "execution_count": 6,
     "metadata": {},
     "output_type": "execute_result"
    }
   ],
   "source": [
    "db.GEOLOGICAL_AGE.unique()"
   ]
  },
  {
   "cell_type": "code",
   "execution_count": 7,
   "metadata": {},
   "outputs": [
    {
     "name": "stdout",
     "output_type": "stream",
     "text": [
      "(8879, 109)\n"
     ]
    }
   ],
   "source": [
    "# indexNames = db[ db['GEOLOGICAL_AGE'] == ['PALEOZOIC','PERMIAN','DEVONIAN', 'CARBONIFEROUS','PROTEROZOIC', 'ORDOVICIAN']].index\n",
    "# db.drop(indexNames , inplace=True)\n",
    "# print(db.shape)\n",
    "\n",
    "\n",
    "indexNames = db[ db['GEOLOGICAL_AGE'] == 'PALEOZOIC'].index\n",
    "db.drop(indexNames , inplace=True)\n",
    "\n",
    "indexNames = db[ db['GEOLOGICAL_AGE'] == 'PERMIAN'].index\n",
    "db.drop(indexNames , inplace=True)\n",
    "\n",
    "indexNames = db[ db['GEOLOGICAL_AGE'] == 'DEVONIAN'].index\n",
    "db.drop(indexNames , inplace=True)\n",
    "\n",
    "indexNames = db[ db['GEOLOGICAL_AGE'] == 'CARBONIFEROUS'].index\n",
    "db.drop(indexNames , inplace=True)\n",
    "\n",
    "indexNames = db[ db['GEOLOGICAL_AGE'] == 'PROTEROZOIC'].index\n",
    "db.drop(indexNames , inplace=True)\n",
    "\n",
    "indexNames = db[ db['GEOLOGICAL_AGE'] == 'ORDOVICIAN'].index\n",
    "db.drop(indexNames , inplace=True)\n",
    "\n",
    "print(db.shape)"
   ]
  },
  {
   "cell_type": "code",
   "execution_count": 8,
   "metadata": {},
   "outputs": [
    {
     "data": {
      "text/plain": [
       "array(['', 'FRESH', 'EXTENSIVELY ALTERED'], dtype=object)"
      ]
     },
     "execution_count": 8,
     "metadata": {},
     "output_type": "execute_result"
    }
   ],
   "source": [
    "db.ALTERATION.unique()"
   ]
  },
  {
   "cell_type": "code",
   "execution_count": 9,
   "metadata": {},
   "outputs": [
    {
     "name": "stdout",
     "output_type": "stream",
     "text": [
      "(8874, 109)\n"
     ]
    }
   ],
   "source": [
    "indexNames = db[ db['ALTERATION'] == 'EXTENSIVELY ALTERED'].index\n",
    "db.drop(indexNames , inplace=True)\n",
    "\n",
    "print(db.shape)"
   ]
  },
  {
   "cell_type": "code",
   "execution_count": 10,
   "metadata": {},
   "outputs": [
    {
     "data": {
      "text/plain": [
       "array(['', 'ZEOLITE/SUBGREENSCHIST-FACIES METAMORPHISM',\n",
       "       'LOW-GRADE METAMORPHISM',\n",
       "       'LOW-GRADE METAMORPHISM, SMECTITES AND CHLORITE PSEUDOMORPHS AFTER ORTHOPYROXENE AND INTERSTITIAL QUARTZ',\n",
       "       'LOW-GRADE METAMORPHISM, GROUNDMASS REPLACED BY SMECTITES AND CHALCEDONY',\n",
       "       'AMPHIBOLITE-FACIES METAMORPHISM',\n",
       "       'LOW-GRADE METAMORPHISM, GROUNDMASS REPLACED BY SMECTITES AND CHLORITES',\n",
       "       'LOW-GRADE METAMORPHISM, GROUNDMASS REPLACED BY SMECTITES AND CHALCEDONY, CLINOPYROXENE TOTALLY REPLACED BY ACTINOLITE, PLAGIOCLASE IS ALBITIZED, SMECTITE AND QUARTZ FRACTURE FILLINGS',\n",
       "       'LOW-GRADE METAMORPHISM, GROUNDMASS REPLACED BY SMECTITES AND CHALCEDONY, GROUNDMASS RECRYSTALLIZED INTO SCMECTITE AND CHLORITE',\n",
       "       'LOW-GRADE METAMORPHISM, GROUNDMASS REPLACED BY SMECTITES AND CHALCEDONY, GROUNDMASS RECRYSTALLIZED INTO SCMECTITE AND CHLORITE, ABUNDANT LARGE VESICULES FILLED WITH CALCITE, PUMPELLYITE, SMECTITES',\n",
       "       'LOW-GRADE METAMORPHISM, GROUNDMASS REPLACED BY SMECTITES AND CHALCEDONY, GROUNDMASS RECRYSTALLIZED INTO SCMECTITE AND CHLORITE, ABUNDANT LARGE VESICULES FILLED WITH CALCITE, PUMPELLYITE, SMECTITES, PLAGIOCLASE REPLACED BY SMECTITES AND FE-TI OXIDES BY TIT',\n",
       "       'GREENSCHIST TO LOWER-AAMPHIBOLITE-FACIES METAMORPHISM',\n",
       "       'METASOMATICALLY ALTERED BY ZEOLITE-FACIES METAMORPHISM',\n",
       "       'HYDROTHERMAL ALTERATION'], dtype=object)"
      ]
     },
     "execution_count": 10,
     "metadata": {},
     "output_type": "execute_result"
    }
   ],
   "source": [
    "db.ALTERATION_TYPE.unique()"
   ]
  },
  {
   "cell_type": "code",
   "execution_count": 11,
   "metadata": {},
   "outputs": [
    {
     "name": "stdout",
     "output_type": "stream",
     "text": [
      "(8816, 109)\n"
     ]
    }
   ],
   "source": [
    "indexNames = db[ db['ALTERATION_TYPE'] == 'HYDROTHERMAL ALTERATION'].index\n",
    "db.drop(indexNames , inplace=True)\n",
    "\n",
    "print(db.shape)"
   ]
  },
  {
   "cell_type": "code",
   "execution_count": 12,
   "metadata": {},
   "outputs": [
    {
     "name": "stdout",
     "output_type": "stream",
     "text": [
      "(7461, 109)\n"
     ]
    }
   ],
   "source": [
    "# db = db.dropna(subset=['SIO2(WT%)'])\n",
    "# print(db.shape)\n",
    "\n",
    "indexNames = db[ db['SIO2(WT%)'] == ''].index\n",
    "db.drop(indexNames , inplace=True)\n",
    "\n",
    "print(db.shape)"
   ]
  },
  {
   "cell_type": "code",
   "execution_count": 13,
   "metadata": {},
   "outputs": [],
   "source": [
    "db.to_csv('NA_Non_Deposits_volcanic_2.csv', index=True, header = True)"
   ]
  },
  {
   "cell_type": "code",
   "execution_count": null,
   "metadata": {},
   "outputs": [],
   "source": []
  }
 ],
 "metadata": {
  "kernelspec": {
   "display_name": "Python 3",
   "language": "python",
   "name": "python3"
  },
  "language_info": {
   "codemirror_mode": {
    "name": "ipython",
    "version": 3
   },
   "file_extension": ".py",
   "mimetype": "text/x-python",
   "name": "python",
   "nbconvert_exporter": "python",
   "pygments_lexer": "ipython3",
   "version": "3.7.7"
  }
 },
 "nbformat": 4,
 "nbformat_minor": 4
}
