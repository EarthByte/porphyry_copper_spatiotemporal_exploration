{
 "cells": [
  {
   "cell_type": "code",
   "execution_count": 3,
   "metadata": {},
   "outputs": [
    {
     "name": "stdout",
     "output_type": "stream",
     "text": [
      "(58237, 8)\n",
      "(3137, 8)\n",
      "(55387, 8)\n",
      "(3177, 8)\n",
      "(52498, 8)\n",
      "(3188, 8)\n",
      "(49600, 8)\n",
      "(3190, 8)\n",
      "(46700, 8)\n",
      "(3202, 8)\n",
      "(43783, 8)\n",
      "(3067, 8)\n",
      "(40979, 8)\n",
      "(2668, 8)\n",
      "(38530, 8)\n",
      "(2473, 8)\n",
      "(36287, 8)\n",
      "(2525, 8)\n",
      "(33995, 8)\n",
      "(2836, 8)\n",
      "(31438, 8)\n",
      "(3121, 8)\n",
      "(28601, 8)\n",
      "(2889, 8)\n",
      "(25948, 8)\n",
      "(2552, 8)\n",
      "(23619, 8)\n",
      "(2647, 8)\n",
      "(21211, 8)\n",
      "(2612, 8)\n",
      "(18833, 8)\n",
      "(2557, 8)\n",
      "(16505, 8)\n",
      "(2185, 8)\n",
      "(14494, 8)\n",
      "(1957, 8)\n",
      "(12722, 8)\n",
      "(2147, 8)\n",
      "(10777, 8)\n",
      "(2496, 8)\n",
      "(8512, 8)\n",
      "(2992, 8)\n",
      "(5796, 8)\n",
      "(3036, 8)\n",
      "(3036, 8)\n",
      "(3036, 8)\n",
      "(276, 8)\n",
      "(276, 8)\n"
     ]
    }
   ],
   "source": [
    "import csv\n",
    "import numpy as np\n",
    "import pandas as pd\n",
    "\n",
    "\n",
    "# For South America\n",
    "\n",
    "for mineral in range(0,231,10):\n",
    "    age_min = str(mineral)\n",
    "    met_age_min = mineral \n",
    "    met_age_max = mineral+11\n",
    "    SA_candidates_prob = pd.read_csv('case_AREPS/ml_output/SA/SA_candidates_all_prob_Neural_Network.csv')\n",
    "#     SA_candidates_prob = SA_candidates_prob.loc[SA_candidates_prob['age'] >= met_age_min]\n",
    "#     print(SA_candidates_prob.shape)\n",
    "#     SA_candidates_prob = SA_candidates_prob.loc[SA_candidates_prob['age'] < met_age_max]\n",
    "#     print(SA_candidates_prob.shape)\n",
    "    SA_candidates_prob = SA_candidates_prob[SA_candidates_prob.age >= met_age_min]\n",
    "    print(SA_candidates_prob.shape)\n",
    "    SA_candidates_prob = SA_candidates_prob[SA_candidates_prob.age < met_age_max]\n",
    "    print(SA_candidates_prob.shape)\n",
    "    SA_candidates_prob = SA_candidates_prob.groupby(['lon','lat'])['prob'].mean()\n",
    "#    SA_candidates_RF_byAge.to_csv('case_AREPS/ml_output/SA/SA_candidates_all_prob_Random_Forest_'+age_min+'_.csv', index=True)\n",
    "    SA_candidates_prob.to_csv('case_AREPS/ml_output/SA/by_age/SA_candidates_all_prob_MLP_'+str(met_age_min)+'_'+str(met_age_max)+'.csv', index=True)\n",
    "\n",
    "   #SA_candidates_RF_byAge = pd.concat([SA_candidates_RF_byAge, SA_candidates_prob])\n",
    "    \n",
    "#SA_candidates_RF_byAge.to_csv('case_AREPS/ml_output/SA/SA_candidates_all_prob_Random_Forest_by_Age.csv', index=True)\n",
    "\n"
   ]
  },
  {
   "cell_type": "code",
   "execution_count": 5,
   "metadata": {},
   "outputs": [],
   "source": [
    "import csv\n",
    "import numpy as np\n",
    "import pandas as pd\n",
    "\n",
    "\n",
    "# For North America\n",
    "\n",
    "for mineral in range(0,231,10):\n",
    "    age_min = str(mineral)\n",
    "    met_age_min = mineral \n",
    "    met_age_max = mineral+11\n",
    "    NA_candidates_prob = pd.read_csv('case_AREPS/ml_output/NA/NA_candidates_all_prob_GaussianProcess.csv')\n",
    "    NA_candidates_prob = NA_candidates_prob[NA_candidates_prob.age >= met_age_min]\n",
    "    NA_candidates_prob = NA_candidates_prob[NA_candidates_prob.age < met_age_max]\n",
    "    NA_candidates_prob = NA_candidates_prob.groupby(['lon','lat'])['prob'].mean()\n",
    "    NA_candidates_prob.to_csv('case_AREPS/ml_output/NA/by_age/NA_candidates_all_prob_GP_'+str(met_age_min)+'_'+str(met_age_max)+'.csv', index=True)\n"
   ]
  },
  {
   "cell_type": "code",
   "execution_count": 6,
   "metadata": {},
   "outputs": [],
   "source": [
    "import pandas as pd\n",
    "from pathlib import Path\n",
    "\n",
    "source_files = sorted(Path('case_AREPS/ml_output/SA/by_age/').glob('*.csv'))\n",
    "\n",
    "dataframes = []\n",
    "for file in source_files:\n",
    "    df = pd.read_csv(file) # additional arguments up to your need\n",
    "    df['classifier'] = file.name\n",
    "    dataframes.append(df)\n",
    "\n",
    "SA_by_age_merged = pd.concat(dataframes)\n",
    "SA_by_age_merged.to_csv('case_AREPS/ml_output/SA/by_age/SA_candidates_all_files_merged.csv', index=True)"
   ]
  },
  {
   "cell_type": "code",
   "execution_count": 7,
   "metadata": {},
   "outputs": [],
   "source": [
    "import pandas as pd\n",
    "from pathlib import Path\n",
    "\n",
    "source_files = sorted(Path('case_AREPS/ml_output/NA/by_age/').glob('*.csv'))\n",
    "\n",
    "dataframes = []\n",
    "for file in source_files:\n",
    "    df = pd.read_csv(file) # additional arguments up to your need\n",
    "    df['classifier'] = file.name\n",
    "    dataframes.append(df)\n",
    "\n",
    "NA_by_age_merged = pd.concat(dataframes)\n",
    "NA_by_age_merged.to_csv('case_AREPS/ml_output/NA/by_age/NA_candidates_all_files_merged.csv', index=True)"
   ]
  },
  {
   "cell_type": "code",
   "execution_count": null,
   "metadata": {},
   "outputs": [],
   "source": []
  }
 ],
 "metadata": {
  "kernelspec": {
   "display_name": "Python 3",
   "language": "python",
   "name": "python3"
  },
  "language_info": {
   "codemirror_mode": {
    "name": "ipython",
    "version": 3
   },
   "file_extension": ".py",
   "mimetype": "text/x-python",
   "name": "python",
   "nbconvert_exporter": "python",
   "pygments_lexer": "ipython3",
   "version": "3.7.6"
  }
 },
 "nbformat": 4,
 "nbformat_minor": 4
}
